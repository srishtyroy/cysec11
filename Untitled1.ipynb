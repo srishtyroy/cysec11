{
  "nbformat": 4,
  "nbformat_minor": 0,
  "metadata": {
    "colab": {
      "name": "Untitled1.ipynb",
      "provenance": []
    },
    "kernelspec": {
      "name": "python3",
      "display_name": "Python 3"
    },
    "language_info": {
      "name": "python"
    }
  },
  "cells": [
    {
      "cell_type": "code",
      "metadata": {
        "id": "EIfTq4gU0_st"
      },
      "source": [
        "import requests\n",
        "\n",
        "#import os\n",
        "\n",
        "from datetime import datetime\n"
      ],
      "execution_count": 1,
      "outputs": []
    },
    {
      "cell_type": "code",
      "metadata": {
        "colab": {
          "base_uri": "https://localhost:8080/"
        },
        "id": "GBW4jPYQ1M1D",
        "outputId": "f828e67f-1856-452e-e735-b276f43003e2"
      },
      "source": [
        "api_key = '13d4a3dcb55cfb53b99d370319047779'\n",
        "location = input(\"Enter the city name: \")\n"
      ],
      "execution_count": 2,
      "outputs": [
        {
          "output_type": "stream",
          "text": [
            "Enter the city name: ranchi\n"
          ],
          "name": "stdout"
        }
      ]
    },
    {
      "cell_type": "code",
      "metadata": {
        "id": "VMRfeOe01um8"
      },
      "source": [
        "complete_api_link = \"http://api.openweathermap.org/data/2.5/weather?q=\"+location+\"&appid=\"+api_key\n",
        "api_link = requests.get(complete_api_link)\n",
        "api_data = api_link.json()"
      ],
      "execution_count": 4,
      "outputs": []
    },
    {
      "cell_type": "code",
      "metadata": {
        "id": "OMg4qI6R225w"
      },
      "source": [
        "#create variables to store and display data\n",
        "temp_city = ((api_data['main']['temp']) - 273.15)\n",
        "weather_desc = api_data['weather'][0]['description']\n",
        "hmdt = api_data['main']['humidity']\n",
        "wind_spd = api_data['wind']['speed']\n",
        "date_time = datetime.now().strftime(\"%d %b %Y | %I:%M:%S %p\")"
      ],
      "execution_count": 5,
      "outputs": []
    },
    {
      "cell_type": "code",
      "metadata": {
        "colab": {
          "base_uri": "https://localhost:8080/"
        },
        "id": "fj_b_kX_4Sw8",
        "outputId": "48f8ce56-1c5c-468b-8007-b66c94794eaf"
      },
      "source": [
        "print (\"------------------------------------------------------------------------\")\n",
        "print (\"Weather Stats for - {} || {}\".format(location.upper(), date_time))\n",
        "print (\"------------------------------------------------------------------------\")"
      ],
      "execution_count": 6,
      "outputs": [
        {
          "output_type": "stream",
          "text": [
            "------------------------------------------------------------------------\n",
            "Weather Stats for - RANCHI || 24 Jun 2021 | 04:45:44 PM\n",
            "------------------------------------------------------------------------\n"
          ],
          "name": "stdout"
        }
      ]
    },
    {
      "cell_type": "code",
      "metadata": {
        "colab": {
          "base_uri": "https://localhost:8080/"
        },
        "id": "qnU_CPYb5AY0",
        "outputId": "749954a2-1cb8-463a-b4a7-23a6b8356ffd"
      },
      "source": [
        "print (\"Current temperature is: {:.2f} deg C\".format(temp_city))\n",
        "print (\"Current weather desc  :\",weather_desc)\n",
        "print (\"Current Humidity      :\",hmdt, '%')\n",
        "print (\"Current wind speed    :\",wind_spd ,'kmph')"
      ],
      "execution_count": 7,
      "outputs": [
        {
          "output_type": "stream",
          "text": [
            "Current temperature is: 25.06 deg C\n",
            "Current weather desc  : moderate rain\n",
            "Current Humidity      : 100 %\n",
            "Current wind speed    : 0 kmph\n"
          ],
          "name": "stdout"
        }
      ]
    }
  ]
}